{
 "cells": [
  {
   "cell_type": "markdown",
   "metadata": {},
   "source": [
    "# TAREA 2\n",
    "## Federico Riveroll Gonzalez 105898"
   ]
  },
  {
   "cell_type": "markdown",
   "metadata": {},
   "source": [
    "### Parte 1: Teoría de Álgebra Lineal y Optimización"
   ]
  },
  {
   "cell_type": "markdown",
   "metadata": {},
   "source": [
    "<b>1) ¿Por qué una matriz equivale a una transformación lineal entre espacios vectoriales?</b>\n",
    "<br><br>\n",
    " Porque cualquier matriz se puede ver como una transformación de los vectores canónicos (matriz diagonal de unos). Siendo las parejas de valores las coordenadas de \"la punta de la flecha\" que viene desde el orígen (0,0). En el siguiente diagrama están 3 vectores canónicos representados por una matriz:<br>\n",
    " <img src = \"https://stevehazen.files.wordpress.com/2010/02/identitymatrix3dswith-labels1.jpg\"/>\n",
    " <br>\n",
    " Y ahora con un nuevo vector que es una transformación de los tres canónicos:\n",
    " <img src = \"https://stevehazen.files.wordpress.com/2010/02/idmatrixwithtranslationvec.jpg?w=595\"/>\n",
    " <br><br><br>\n",
    " <b>2) ¿Cuál es el efecto de transformación lineal de una matriz diagonal y el de una matriz ortogonal?</b>\n",
    " <br><br>\n",
    " En el caso de la <i>matriz diagonal</i> la transformación solamente escala los vectores canónicos, es decír, no rota ni se desplaza, de tal forma que los vectores resultantes de la transformación están en el span de los vectores iniciales.<br>\n",
    " <img src=\"https://mathsmartinthomas.files.wordpress.com/2014/12/diag41.png\"/>\n",
    " <br>\n",
    " En el caso de la <i> matriz ortogonal</i> la transformación es una rotación y/o reflexión, preserva angulos y longitudes y el volumen no cambia (el determinante es 1 ó -1). \n",
    " <br>\n",
    " <img src=\"http://fourier.eng.hmc.edu/e101/lectures/unitary_transform_2.gif\"/>\n",
    "  <br><br><br>\n",
    " <b>3) ¿Qué es la descomposición en valores singulares de una matriz?</b><br><br>\n",
    " La descomposición de una matriz en valores singulares es representar una matriz <b>A</b> como el producto de tres matrices; <b>U</b>, <b>&Sigma;</b> y <b>V</b>. De tal forma que:<br><br>\n",
    " <b>A</b> = <b>U&Sigma;V</b>(t)<br><br>\n",
    " Donde:<br>\n",
    " <b>A</b> es una matriz de mxn\n",
    " <br>\n",
    " <b>U</b> es una matriz ortogonal de mxm\n",
    "  <br>\n",
    " <b>V</b> es una matriz ortogonal de nxn\n",
    "  <br>\n",
    " <b>&Sigma;</b> es una matriz diagonal acompletada por ceros en las dimensiones sobrantes\n",
    " <br><br>\n",
    " <img src = \"http://www.alglib.net/matrixops/general/i/svd1.gif\"/>\n",
    "  <br><br><br>\n",
    " <b>4) ¿Qué es diagonalizar una matriz y qué representan los eigenvectores?</b><br><br>\n",
    " Una matriz es <b>diagonalizable</b> si mediante un cambio de base puede (una transformación) reducirse al producto entre dos matrices ortogonales y <b>una matriz diagonal</b>. De tal forma que se puedan hacer transformaciones a dicha matriz diagonal y luego regresar a su base original, ya que las operaciones en matrices diagonales son mucho menos costosas y el resultado es equivalente.<br><br>\n",
    " Se dice que la matriz A es diagonalizable cuando; <br><br>\n",
    " <b>A</b> = <b>PDP</b>(-)<br><br>\n",
    " Donde:<br>\n",
    " <b>A</b> es una matriz de mxn\n",
    " <br>\n",
    " <b>P</b> es una matriz invertible cuyos vectores son los eigenvectores de A\n",
    " <br>\n",
    " <b>D</b> es una matriz diagonal cuyos valores son los eigenvalores de A\n",
    " <br><br>\n",
    " <img src=\"https://www.matesfacil.com/diagonalizable.jpg\"/>\n",
    " \n",
    " <br><br><br>\n"
   ]
  },
  {
   "cell_type": "markdown",
   "metadata": {},
   "source": [
    " <b>5) ¿Intuitivamente qué son los eigenvectores?</b><br><br>\n",
    " Los eigenvectores son aquellos que en una transformación solamente escalan sus magnitudes pero no se mueven, dicho de otra forma, son aquellos vectores que van a permanecer en su <b>span</b> después de ser transformados, por lo tanto;<br><br>\n",
    " Se dice que el vector <b>x</b> es <u>eigenvector</u> si se cumple que;<br><br>\n",
    " <b>Ax</b> = <b>&lambda;x</b>\n",
    " <br><br>\n",
    " Donde:<br>\n",
    " <b>A</b> es una matriz\n",
    " <br>\n",
    " <b>x</b> es un vector\n",
    " <br>\n",
    " <b>&lambda;</b> es un escalar (y un eigenvalor)\n",
    " <br><br>\n",
    " <img src = \"https://upload.wikimedia.org/wikipedia/commons/thumb/5/58/Eigenvalue_equation.svg/500px-Eigenvalue_equation.svg.png\"/>"
   ]
  },
  {
   "cell_type": "markdown",
   "metadata": {},
   "source": [
    "<b>6) ¿Cómo interpretas la descomposición en valores singulares como una composición de tres tipos de transformaciones lineales simples?</b><br><br>\n",
    "<b>M</b> = <b>U&Sigma;V</b>(t)<br><br>\n",
    " Donde:<br>\n",
    " <b>M</b> es una matriz de mxn\n",
    " <br>\n",
    " <b>U</b> es una matriz ortogonal de mxm\n",
    "  <br>\n",
    " <b>V</b> es una matriz ortogonal de nxn\n",
    "  <br>\n",
    " <b>&Sigma;</b> es una matriz diagonal acompletada por ceros en las dimensiones sobrantes\n",
    " <br><br>\n",
    " La interpretación intiuitiva es que una matriz o transformación lineal (<b>M</b>) se puede representar de manera equivalente como una rotación (<b>V</b>(t)) más una redimensión (<b>&Sigma;</b>) más una rotación de los ejes canónicos (<b>U</b>).<br><br>\n",
    " <img src=\"https://upload.wikimedia.org/wikipedia/commons/b/bb/Singular-Value-Decomposition.svg\"/>\n"
   ]
  },
  {
   "cell_type": "markdown",
   "metadata": {},
   "source": [
    "<b>7) ¿Qué relación hay entre la descomposición en valores singulares y la diagonalización?</b><br><br>\n",
    "La diagonalización de una matriz <b>A</b> se lleva a cabo de la siguiente forma:<br><br>\n",
    "<b>A</b> = <b>PDP</b>(-)<br><br>\n",
    " Donde:<br>\n",
    " <b>A</b> es una matriz de mxn\n",
    " <br>\n",
    " <b>P</b> es una matriz invertible cuyos vectores son los eigenvectores de A\n",
    " <br>\n",
    " <b>D</b> es una matriz diagonal cuyos valores son los eigenvalores de A\n",
    " <br><br>\n",
    " Y la descomposición en valores singulares para dicha matriz <b>A</b> de la siguiente forma:<br><br>\n",
    " <b>A</b> = <b>U&Sigma;V</b>(t)<br><br>\n",
    " Donde:<br>\n",
    " <b>A</b> es una matriz de mxn\n",
    " <br>\n",
    " <b>U</b> es una matriz ortogonal de mxm\n",
    "  <br>\n",
    " <b>V</b> es una matriz ortogonal de nxn\n",
    "  <br>\n",
    " <b>&Sigma;</b> es una matriz diagonal acompletada por ceros en las dimensiones sobrantes\n",
    " <br><br>\n",
    "Pero si multiplicamos cada lado por la transpuesta nos da:<br><br>\n",
    " <b>A</b>(t)<b>A</b> = <b>V&Sigma;</b>(t)<b>U</b>(t) * <b>U&Sigma;V</b>(t)<br><br>\n",
    "Cancelamos <b>U</b>(t) * <b>U</b> y nos queda:<br><br>\n",
    "  <b>A</b>(t)<b>A</b> = <b>V&Sigma;</b>(t) * <b>&Sigma;V</b>(t)<br><br>\n",
    "Pero como <b>&Sigma;</b>(t) * <b>&Sigma;</b> es diagonal llamemosla <b>D</b>, llegamos a la forma de matriz diagonalizada:<br><br>\n",
    "<b>A</b>(t)<b>A</b>  = <b>VDV</b>(-)<br><br>\n",
    "Donde:<br>\n",
    "<b>V</b> son los ergenvectores de <b>A</b>(t)<b>A</b> con ergenvalores los cuadrados de los valores singulares.\n",
    "<br><br>\n"
   ]
  },
  {
   "cell_type": "markdown",
   "metadata": {
    "collapsed": true
   },
   "source": [
    "<b>8) ¿Cómo se usa la descomposición en valores singulares para dar una aproximación de rango menor a una matriz?</b><br><br>\n",
    "\n",
    "<br><br>"
   ]
  },
  {
   "cell_type": "markdown",
   "metadata": {},
   "source": [
    "<b>9) Describe el método de minimización por descenso gradiente</b><br><br>\n",
    "Se llama <u>gradiente</u> a un <b>vector de derivadas de una función en varias direcciones</b>. El gradiente se puede representar como un vector que apunta en la dirección donde mayor crecimiento (ó decrecimiento) hay de una función multidimiensional, en el caso de un espacio tridimensional, el vector es una función de <b>x</b> y <b>y</b> apuntando hacia donde la superficie (<b>z</b>) sea mayor (ó menor). Si el gradiente tiene un valor negativo implica que la función, hacia donde está apuntando el gradiente, tiene pendiente descendiente.<br><br>\n",
    "<img src=\"http://www.sharetechnote.com/image/Calculus_Gradient_02.png\"/>\n",
    "<br><br>\n",
    "Cabe mencionar que los gradientes son perpendiculares a las <i>curvas de nivel</i>;<br><br>\n",
    "<img src=\"http://www.sharetechnote.com/image/Calculus_Gradient_04.png\"/>\n",
    "<br><br>\n",
    "Por lo tanto, el algoritmo de <b>DESCENSO DE GRADIENTE</b> utiliza este vector dirección para maximizar (o minimizar) algún objetivo, haciendo uso de esta técnica se dan \"pasos\" hacia la dirección en la que la función aumenta (o disminuye) más para llegar al óptimo. El tamaño de los pasos que se dan se podría determinar con el escalar <b>&alpha;</b>.<br><br> El algoritmo de descenso de gradiente consiste en acutalizar una ubicación cada \"paso\" hasta llegar al mínimo como se muestra en la siguiente figura:\n",
    "\n",
    "<br><br>\n",
    "<img src=\"https://s3-ap-south-1.amazonaws.com/av-blog-media/wp-content/uploads/2017/03/06100746/grad.png\"/>\n",
    "<br><br>"
   ]
  },
  {
   "cell_type": "markdown",
   "metadata": {},
   "source": [
    "<b>10) Menciona cuatro ejemplos de problemas de optimización (dos con restricciones y dos sin restricciones) que te parezcan interesantes como Científico de Datos</b><br><br>\n",
    "\n",
    "1) Maximizar la utilidad esperada de una inversión distribuyendo el capital en tres productos financieros diferentes. Restricción: el mínimo a invertír en cualquiera de los tres productos financieros es 20% (para distribuír el riesgo).<br>\n",
    "\n",
    "2) Sistema de recomendación de canciones; Maximizar pronóstico de que la siguiente canción le guste al usuario. Restricción: Una misma canción no puede aparecer más de 1 vez cada 3 días (para no 'quemar' la canción).\n",
    "<br>\n",
    "\n",
    "3) Optimización de algoritmo de predicción de rotación de empleados. Se define el costo como la diferencia cuadrática entre la predicción (en meses) y el valor real de la duración de cada empleado. Utilizando algoritmo de descenso de gradiente sobre la función de costo se llega a la mejor solución.\n",
    "<br>\n",
    "\n",
    "4) Maximización de utilidad de tienda departamental. Se cambian semanalmente los precios de todos los artículos de una zona durante varios meses y se \"apunta\" la utilidad (ventas - costos y gastos de venta) entre el número de personas que estuvieron en la tienda. El problema es buscar para cada variación de precios la máxima utilidad de cada tipo de artículo (probablemente sean diferentes en diferentes variaciones).\n",
    "<br>\n",
    "\n"
   ]
  },
  {
   "cell_type": "markdown",
   "metadata": {
    "collapsed": true
   },
   "source": [
    "## Aproximar Imagen por medio de SVD (low rank)"
   ]
  },
  {
   "cell_type": "markdown",
   "metadata": {},
   "source": [
    "Para la transformación de imagen en varios tamaños de aproximación utilicé <a href=\"https://github.com/kaityo256/image_svd\"> este proyecto</a>. <br><br>\n",
    "El programa toma una imágen y la convierte en una matriz \"<b>A</b>\" de pixeles \"grises\" por medio de la función <b>Numpy.asarray(imagen)</b>, a dicha imágen le realiza la descomposición y la  aproxima con el rango elegido '<b>r</b>'. Llamemos la matriz resultante: \"<b>B</b>\", de tal modo que:\n",
    "<br><br>\n",
    "<b>A</b> es una matriz de mxn (convertida de la imágen)\n",
    "<br>\n",
    "<b>r</b> es un entero que representa el rango elegido\n",
    "<br><br> y:\n",
    "<br>\n",
    "<b>Ur</b> es una matriz de mx<b>r</b>\n",
    "<br>\n",
    "<b>&Sigma;r</b> es una matriz diagonal de <b>r</b>x<b>r</b>\n",
    "<br>\n",
    "<b>Vr</b> es una matriz de <b>r</b>xm\n",
    "<br><br>\n",
    "Y <b>B</b> es una nueva matriz pseudo-inversa de mxn que <b>aproxima</b> la matriz <b>A</b> multiplicando Ur*&Sigma;r*Vr.\n",
    "<br>\n",
    "<br>\n",
    "De tal modo que pudimos aproximar la matriz A de nxm utilizando tres matrices de (mxr, rxr y rxm) respectivamente, utilizanado muchísima menos información. <br>Una posible aplicación es el envío de imágenes de baja resolución para videos en dispositivos con internet lento. Se envía una aproximación de la información pero con muchos menos 'datos' de tal forma que puedan ver el video en tiempo real aunque sea con menor resolución."
   ]
  },
  {
   "cell_type": "markdown",
   "metadata": {},
   "source": [
    "## Solución de equación mediante pseudoinversa SVD"
   ]
  },
  {
   "cell_type": "code",
   "execution_count": 7,
   "metadata": {},
   "outputs": [],
   "source": [
    "import numpy as np\n",
    "from numpy import *\n",
    "Eq = np.array([[1, 1, -1, 9],[0, 1, 3, 3],[-1, 0, -2, 2]])\n",
    "\n",
    "A = Eq[:,0:3] # As\n",
    "b = Eq[:,3] # Resultados 9, 3, 2\n",
    "\n",
    "# Las soluciones son: [0.666666666666667, 7.0, -1.3333333333333333] "
   ]
  },
  {
   "cell_type": "code",
   "execution_count": 8,
   "metadata": {
    "collapsed": true
   },
   "outputs": [],
   "source": [
    "U,s,V = linalg.svd(A) # descomposición SVD de A\n",
    "\n",
    "# inversa usando pinv\n",
    "pinv = linalg.pinv(A)\n",
    "# inversa usando descomposición SVD\n",
    "pinv_svd = dot(dot(V.T,linalg.inv(diag(s))),U.T)"
   ]
  },
  {
   "cell_type": "code",
   "execution_count": 9,
   "metadata": {},
   "outputs": [
    {
     "data": {
      "text/plain": [
       "array([ 0.66666667,  7.        , -1.33333333])"
      ]
     },
     "execution_count": 9,
     "metadata": {},
     "output_type": "execute_result"
    }
   ],
   "source": [
    "xPinv = dot(pinv_svd, b) # Resolviendo Ax=b con x = A^-1*b\n",
    "xPinv.T"
   ]
  },
  {
   "cell_type": "code",
   "execution_count": 10,
   "metadata": {},
   "outputs": [
    {
     "data": {
      "text/plain": [
       "array([ 0.66666667,  7.        , -1.33333333])"
      ]
     },
     "execution_count": 10,
     "metadata": {},
     "output_type": "execute_result"
    }
   ],
   "source": [
    "# Resolviendo Ax=b usando ecuación\n",
    "c = dot(U.T,b) # c = U^t*b\n",
    "w = linalg.solve(diag(s),c) # w = V^t*c\n",
    "xSVD = dot(V.T,w) # x = V*w\n",
    "xSVD.T"
   ]
  },
  {
   "cell_type": "markdown",
   "metadata": {},
   "source": [
    "# Resolviendo caso A=[[1,1],[0,0]]"
   ]
  },
  {
   "cell_type": "code",
   "execution_count": 34,
   "metadata": {
    "collapsed": true
   },
   "outputs": [],
   "source": [
    "Eq = np.array([[1, 1, 4],[0, 0, 0]])\n",
    "\n",
    "A = Eq[:,0:2] # As\n",
    "b = Eq[:,2] # Resultados 9, 3, 2"
   ]
  },
  {
   "cell_type": "code",
   "execution_count": 35,
   "metadata": {
    "scrolled": true
   },
   "outputs": [
    {
     "ename": "LinAlgError",
     "evalue": "Singular matrix",
     "output_type": "error",
     "traceback": [
      "\u001b[0;31m---------------------------------------------------------------------------\u001b[0m",
      "\u001b[0;31mLinAlgError\u001b[0m                               Traceback (most recent call last)",
      "\u001b[0;32m<ipython-input-35-fbac25605052>\u001b[0m in \u001b[0;36m<module>\u001b[0;34m()\u001b[0m\n\u001b[1;32m      1\u001b[0m \u001b[0mU\u001b[0m\u001b[0;34m,\u001b[0m\u001b[0ms\u001b[0m\u001b[0;34m,\u001b[0m\u001b[0mV\u001b[0m \u001b[0;34m=\u001b[0m \u001b[0mlinalg\u001b[0m\u001b[0;34m.\u001b[0m\u001b[0msvd\u001b[0m\u001b[0;34m(\u001b[0m\u001b[0mA\u001b[0m\u001b[0;34m)\u001b[0m\u001b[0;34m\u001b[0m\u001b[0m\n\u001b[1;32m      2\u001b[0m \u001b[0mc\u001b[0m \u001b[0;34m=\u001b[0m \u001b[0mdot\u001b[0m\u001b[0;34m(\u001b[0m\u001b[0mU\u001b[0m\u001b[0;34m.\u001b[0m\u001b[0mT\u001b[0m\u001b[0;34m,\u001b[0m\u001b[0mb\u001b[0m\u001b[0;34m)\u001b[0m \u001b[0;31m# c = U^t*b\u001b[0m\u001b[0;34m\u001b[0m\u001b[0m\n\u001b[0;32m----> 3\u001b[0;31m \u001b[0mw\u001b[0m \u001b[0;34m=\u001b[0m \u001b[0mlinalg\u001b[0m\u001b[0;34m.\u001b[0m\u001b[0msolve\u001b[0m\u001b[0;34m(\u001b[0m\u001b[0mdiag\u001b[0m\u001b[0;34m(\u001b[0m\u001b[0ms\u001b[0m\u001b[0;34m)\u001b[0m\u001b[0;34m,\u001b[0m\u001b[0mc\u001b[0m\u001b[0;34m)\u001b[0m \u001b[0;31m# w = V^t*c\u001b[0m\u001b[0;34m\u001b[0m\u001b[0m\n\u001b[0m\u001b[1;32m      4\u001b[0m \u001b[0mxSVD\u001b[0m \u001b[0;34m=\u001b[0m \u001b[0mdot\u001b[0m\u001b[0;34m(\u001b[0m\u001b[0mV\u001b[0m\u001b[0;34m.\u001b[0m\u001b[0mT\u001b[0m\u001b[0;34m,\u001b[0m\u001b[0mw\u001b[0m\u001b[0;34m)\u001b[0m \u001b[0;31m# x = V*w\u001b[0m\u001b[0;34m\u001b[0m\u001b[0m\n\u001b[1;32m      5\u001b[0m \u001b[0mxSVD\u001b[0m\u001b[0;34m.\u001b[0m\u001b[0mT\u001b[0m\u001b[0;34m\u001b[0m\u001b[0m\n",
      "\u001b[0;32m/home/federico/anaconda3/lib/python3.6/site-packages/numpy/linalg/linalg.py\u001b[0m in \u001b[0;36msolve\u001b[0;34m(a, b)\u001b[0m\n\u001b[1;32m    382\u001b[0m     \u001b[0msignature\u001b[0m \u001b[0;34m=\u001b[0m \u001b[0;34m'DD->D'\u001b[0m \u001b[0;32mif\u001b[0m \u001b[0misComplexType\u001b[0m\u001b[0;34m(\u001b[0m\u001b[0mt\u001b[0m\u001b[0;34m)\u001b[0m \u001b[0;32melse\u001b[0m \u001b[0;34m'dd->d'\u001b[0m\u001b[0;34m\u001b[0m\u001b[0m\n\u001b[1;32m    383\u001b[0m     \u001b[0mextobj\u001b[0m \u001b[0;34m=\u001b[0m \u001b[0mget_linalg_error_extobj\u001b[0m\u001b[0;34m(\u001b[0m\u001b[0m_raise_linalgerror_singular\u001b[0m\u001b[0;34m)\u001b[0m\u001b[0;34m\u001b[0m\u001b[0m\n\u001b[0;32m--> 384\u001b[0;31m     \u001b[0mr\u001b[0m \u001b[0;34m=\u001b[0m \u001b[0mgufunc\u001b[0m\u001b[0;34m(\u001b[0m\u001b[0ma\u001b[0m\u001b[0;34m,\u001b[0m \u001b[0mb\u001b[0m\u001b[0;34m,\u001b[0m \u001b[0msignature\u001b[0m\u001b[0;34m=\u001b[0m\u001b[0msignature\u001b[0m\u001b[0;34m,\u001b[0m \u001b[0mextobj\u001b[0m\u001b[0;34m=\u001b[0m\u001b[0mextobj\u001b[0m\u001b[0;34m)\u001b[0m\u001b[0;34m\u001b[0m\u001b[0m\n\u001b[0m\u001b[1;32m    385\u001b[0m \u001b[0;34m\u001b[0m\u001b[0m\n\u001b[1;32m    386\u001b[0m     \u001b[0;32mreturn\u001b[0m \u001b[0mwrap\u001b[0m\u001b[0;34m(\u001b[0m\u001b[0mr\u001b[0m\u001b[0;34m.\u001b[0m\u001b[0mastype\u001b[0m\u001b[0;34m(\u001b[0m\u001b[0mresult_t\u001b[0m\u001b[0;34m,\u001b[0m \u001b[0mcopy\u001b[0m\u001b[0;34m=\u001b[0m\u001b[0;32mFalse\u001b[0m\u001b[0;34m)\u001b[0m\u001b[0;34m)\u001b[0m\u001b[0;34m\u001b[0m\u001b[0m\n",
      "\u001b[0;32m/home/federico/anaconda3/lib/python3.6/site-packages/numpy/linalg/linalg.py\u001b[0m in \u001b[0;36m_raise_linalgerror_singular\u001b[0;34m(err, flag)\u001b[0m\n\u001b[1;32m     88\u001b[0m \u001b[0;34m\u001b[0m\u001b[0m\n\u001b[1;32m     89\u001b[0m \u001b[0;32mdef\u001b[0m \u001b[0m_raise_linalgerror_singular\u001b[0m\u001b[0;34m(\u001b[0m\u001b[0merr\u001b[0m\u001b[0;34m,\u001b[0m \u001b[0mflag\u001b[0m\u001b[0;34m)\u001b[0m\u001b[0;34m:\u001b[0m\u001b[0;34m\u001b[0m\u001b[0m\n\u001b[0;32m---> 90\u001b[0;31m     \u001b[0;32mraise\u001b[0m \u001b[0mLinAlgError\u001b[0m\u001b[0;34m(\u001b[0m\u001b[0;34m\"Singular matrix\"\u001b[0m\u001b[0;34m)\u001b[0m\u001b[0;34m\u001b[0m\u001b[0m\n\u001b[0m\u001b[1;32m     91\u001b[0m \u001b[0;34m\u001b[0m\u001b[0m\n\u001b[1;32m     92\u001b[0m \u001b[0;32mdef\u001b[0m \u001b[0m_raise_linalgerror_nonposdef\u001b[0m\u001b[0;34m(\u001b[0m\u001b[0merr\u001b[0m\u001b[0;34m,\u001b[0m \u001b[0mflag\u001b[0m\u001b[0;34m)\u001b[0m\u001b[0;34m:\u001b[0m\u001b[0;34m\u001b[0m\u001b[0m\n",
      "\u001b[0;31mLinAlgError\u001b[0m: Singular matrix"
     ]
    }
   ],
   "source": [
    "U,s,V = linalg.svd(A)\n",
    "c = dot(U.T,b) # c = U^t*b\n",
    "w = linalg.solve(diag(s),c) # w = V^t*c\n",
    "xSVD = dot(V.T,w) # x = V*w\n",
    "xSVD.T"
   ]
  },
  {
   "cell_type": "markdown",
   "metadata": {},
   "source": [
    "## El experimento anerior nos da error por ser una matriz singular, ahora intentamos con A=[[1,1],[0,1e-32]]"
   ]
  },
  {
   "cell_type": "code",
   "execution_count": 23,
   "metadata": {
    "collapsed": true
   },
   "outputs": [],
   "source": [
    "Eq = np.array([[1, 1, -1],[0, 1e-32, 3]])\n",
    "\n",
    "A = Eq[:,0:2] # As\n",
    "b = Eq[:,2] # "
   ]
  },
  {
   "cell_type": "code",
   "execution_count": 24,
   "metadata": {},
   "outputs": [
    {
     "data": {
      "text/plain": [
       "array([ -3.00000000e+32,   3.00000000e+32])"
      ]
     },
     "execution_count": 24,
     "metadata": {},
     "output_type": "execute_result"
    }
   ],
   "source": [
    "U,s,V = linalg.svd(A)\n",
    "pinv_svd = dot(dot(V.T,linalg.inv(diag(s))),U.T)\n",
    "xPinv = dot(pinv_svd, b) # Resolviendo Ax=b con x = A^-1*b\n",
    "xPinv.T"
   ]
  },
  {
   "cell_type": "markdown",
   "metadata": {},
   "source": [
    "## Intentando con b en imagen de A\n",
    "Para esto necesitamos que b sea multiplo escalar de A, por ejemplo [1,0]"
   ]
  },
  {
   "cell_type": "code",
   "execution_count": 29,
   "metadata": {
    "collapsed": true
   },
   "outputs": [],
   "source": [
    "Eq = np.array([[1, 1, 0],[0, 0, 1]])\n",
    "\n",
    "A = Eq[:,0:2] # As\n",
    "b = Eq[:,2] # "
   ]
  },
  {
   "cell_type": "code",
   "execution_count": 30,
   "metadata": {},
   "outputs": [
    {
     "ename": "LinAlgError",
     "evalue": "Singular matrix",
     "output_type": "error",
     "traceback": [
      "\u001b[0;31m---------------------------------------------------------------------------\u001b[0m",
      "\u001b[0;31mLinAlgError\u001b[0m                               Traceback (most recent call last)",
      "\u001b[0;32m<ipython-input-30-d85cd0a92d5d>\u001b[0m in \u001b[0;36m<module>\u001b[0;34m()\u001b[0m\n\u001b[1;32m      1\u001b[0m \u001b[0mU\u001b[0m\u001b[0;34m,\u001b[0m\u001b[0ms\u001b[0m\u001b[0;34m,\u001b[0m\u001b[0mV\u001b[0m \u001b[0;34m=\u001b[0m \u001b[0mlinalg\u001b[0m\u001b[0;34m.\u001b[0m\u001b[0msvd\u001b[0m\u001b[0;34m(\u001b[0m\u001b[0mA\u001b[0m\u001b[0;34m)\u001b[0m\u001b[0;34m\u001b[0m\u001b[0m\n\u001b[0;32m----> 2\u001b[0;31m \u001b[0mpinv_svd\u001b[0m \u001b[0;34m=\u001b[0m \u001b[0mdot\u001b[0m\u001b[0;34m(\u001b[0m\u001b[0mdot\u001b[0m\u001b[0;34m(\u001b[0m\u001b[0mV\u001b[0m\u001b[0;34m.\u001b[0m\u001b[0mT\u001b[0m\u001b[0;34m,\u001b[0m\u001b[0mlinalg\u001b[0m\u001b[0;34m.\u001b[0m\u001b[0minv\u001b[0m\u001b[0;34m(\u001b[0m\u001b[0mdiag\u001b[0m\u001b[0;34m(\u001b[0m\u001b[0ms\u001b[0m\u001b[0;34m)\u001b[0m\u001b[0;34m)\u001b[0m\u001b[0;34m)\u001b[0m\u001b[0;34m,\u001b[0m\u001b[0mU\u001b[0m\u001b[0;34m.\u001b[0m\u001b[0mT\u001b[0m\u001b[0;34m)\u001b[0m\u001b[0;34m\u001b[0m\u001b[0m\n\u001b[0m\u001b[1;32m      3\u001b[0m \u001b[0mxPinv\u001b[0m \u001b[0;34m=\u001b[0m \u001b[0mdot\u001b[0m\u001b[0;34m(\u001b[0m\u001b[0mpinv_svd\u001b[0m\u001b[0;34m,\u001b[0m \u001b[0mb\u001b[0m\u001b[0;34m)\u001b[0m \u001b[0;31m# Resolviendo Ax=b con x = A^-1*b\u001b[0m\u001b[0;34m\u001b[0m\u001b[0m\n\u001b[1;32m      4\u001b[0m \u001b[0mxPinv\u001b[0m\u001b[0;34m.\u001b[0m\u001b[0mT\u001b[0m\u001b[0;34m\u001b[0m\u001b[0m\n",
      "\u001b[0;32m/home/federico/anaconda3/lib/python3.6/site-packages/numpy/linalg/linalg.py\u001b[0m in \u001b[0;36minv\u001b[0;34m(a)\u001b[0m\n\u001b[1;32m    524\u001b[0m     \u001b[0msignature\u001b[0m \u001b[0;34m=\u001b[0m \u001b[0;34m'D->D'\u001b[0m \u001b[0;32mif\u001b[0m \u001b[0misComplexType\u001b[0m\u001b[0;34m(\u001b[0m\u001b[0mt\u001b[0m\u001b[0;34m)\u001b[0m \u001b[0;32melse\u001b[0m \u001b[0;34m'd->d'\u001b[0m\u001b[0;34m\u001b[0m\u001b[0m\n\u001b[1;32m    525\u001b[0m     \u001b[0mextobj\u001b[0m \u001b[0;34m=\u001b[0m \u001b[0mget_linalg_error_extobj\u001b[0m\u001b[0;34m(\u001b[0m\u001b[0m_raise_linalgerror_singular\u001b[0m\u001b[0;34m)\u001b[0m\u001b[0;34m\u001b[0m\u001b[0m\n\u001b[0;32m--> 526\u001b[0;31m     \u001b[0mainv\u001b[0m \u001b[0;34m=\u001b[0m \u001b[0m_umath_linalg\u001b[0m\u001b[0;34m.\u001b[0m\u001b[0minv\u001b[0m\u001b[0;34m(\u001b[0m\u001b[0ma\u001b[0m\u001b[0;34m,\u001b[0m \u001b[0msignature\u001b[0m\u001b[0;34m=\u001b[0m\u001b[0msignature\u001b[0m\u001b[0;34m,\u001b[0m \u001b[0mextobj\u001b[0m\u001b[0;34m=\u001b[0m\u001b[0mextobj\u001b[0m\u001b[0;34m)\u001b[0m\u001b[0;34m\u001b[0m\u001b[0m\n\u001b[0m\u001b[1;32m    527\u001b[0m     \u001b[0;32mreturn\u001b[0m \u001b[0mwrap\u001b[0m\u001b[0;34m(\u001b[0m\u001b[0mainv\u001b[0m\u001b[0;34m.\u001b[0m\u001b[0mastype\u001b[0m\u001b[0;34m(\u001b[0m\u001b[0mresult_t\u001b[0m\u001b[0;34m,\u001b[0m \u001b[0mcopy\u001b[0m\u001b[0;34m=\u001b[0m\u001b[0;32mFalse\u001b[0m\u001b[0;34m)\u001b[0m\u001b[0;34m)\u001b[0m\u001b[0;34m\u001b[0m\u001b[0m\n\u001b[1;32m    528\u001b[0m \u001b[0;34m\u001b[0m\u001b[0m\n",
      "\u001b[0;32m/home/federico/anaconda3/lib/python3.6/site-packages/numpy/linalg/linalg.py\u001b[0m in \u001b[0;36m_raise_linalgerror_singular\u001b[0;34m(err, flag)\u001b[0m\n\u001b[1;32m     88\u001b[0m \u001b[0;34m\u001b[0m\u001b[0m\n\u001b[1;32m     89\u001b[0m \u001b[0;32mdef\u001b[0m \u001b[0m_raise_linalgerror_singular\u001b[0m\u001b[0;34m(\u001b[0m\u001b[0merr\u001b[0m\u001b[0;34m,\u001b[0m \u001b[0mflag\u001b[0m\u001b[0;34m)\u001b[0m\u001b[0;34m:\u001b[0m\u001b[0;34m\u001b[0m\u001b[0m\n\u001b[0;32m---> 90\u001b[0;31m     \u001b[0;32mraise\u001b[0m \u001b[0mLinAlgError\u001b[0m\u001b[0;34m(\u001b[0m\u001b[0;34m\"Singular matrix\"\u001b[0m\u001b[0;34m)\u001b[0m\u001b[0;34m\u001b[0m\u001b[0m\n\u001b[0m\u001b[1;32m     91\u001b[0m \u001b[0;34m\u001b[0m\u001b[0m\n\u001b[1;32m     92\u001b[0m \u001b[0;32mdef\u001b[0m \u001b[0m_raise_linalgerror_nonposdef\u001b[0m\u001b[0;34m(\u001b[0m\u001b[0merr\u001b[0m\u001b[0;34m,\u001b[0m \u001b[0mflag\u001b[0m\u001b[0;34m)\u001b[0m\u001b[0;34m:\u001b[0m\u001b[0;34m\u001b[0m\u001b[0m\n",
      "\u001b[0;31mLinAlgError\u001b[0m: Singular matrix"
     ]
    }
   ],
   "source": [
    "U,s,V = linalg.svd(A)\n",
    "pinv_svd = dot(dot(V.T,linalg.inv(diag(s))),U.T)\n",
    "xPinv = dot(pinv_svd, b) # Resolviendo Ax=b con x = A^-1*b\n",
    "xPinv.T"
   ]
  },
  {
   "cell_type": "markdown",
   "metadata": {},
   "source": [
    "POR CONTINUAR..."
   ]
  },
  {
   "cell_type": "code",
   "execution_count": null,
   "metadata": {
    "collapsed": true
   },
   "outputs": [],
   "source": []
  }
 ],
 "metadata": {
  "kernelspec": {
   "display_name": "Python 3",
   "language": "python",
   "name": "python3"
  },
  "language_info": {
   "codemirror_mode": {
    "name": "ipython",
    "version": 3
   },
   "file_extension": ".py",
   "mimetype": "text/x-python",
   "name": "python",
   "nbconvert_exporter": "python",
   "pygments_lexer": "ipython3",
   "version": "3.6.1"
  }
 },
 "nbformat": 4,
 "nbformat_minor": 2
}
