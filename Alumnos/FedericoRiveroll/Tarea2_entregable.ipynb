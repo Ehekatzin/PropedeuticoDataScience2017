{
 "cells": [
  {
   "cell_type": "markdown",
   "metadata": {},
   "source": [
    "# TAREA 2\n",
    "## Federico Riveroll Gonzalez 105898"
   ]
  },
  {
   "cell_type": "markdown",
   "metadata": {},
   "source": [
    "### Parte 1: Teoría de Álgebra Lineal y Optimización"
   ]
  },
  {
   "cell_type": "markdown",
   "metadata": {},
   "source": [
    "<b>1) ¿Por qué una matriz equivale a una transformación lineal entre espacios vectoriales?</b>\n",
    "<br><br>\n",
    " Porque cualquier matriz se puede ver como una transformación de los vectores canónicos (matriz diagonal de unos). Siendo las parejas de valores las coordenadas de \"la punta de la flecha\" que viene desde el orígen (0,0). En el siguiente diagrama están 3 vectores canónicos representados por una matriz:<br>\n",
    " <img src = \"https://stevehazen.files.wordpress.com/2010/02/identitymatrix3dswith-labels1.jpg\"/>\n",
    " <br>\n",
    " Y ahora con un nuevo vector que es una transformación de los tres canónicos:\n",
    " <img src = \"https://stevehazen.files.wordpress.com/2010/02/idmatrixwithtranslationvec.jpg?w=595\"/>\n",
    " <br><br><br>\n",
    " <b>2) ¿Cuál es el efecto de transformación lineal de una matriz diagonal y el de una matriz ortogonal?</b>\n",
    " <br><br>\n",
    " En el caso de la <i>matriz diagonal</i> la transformación solamente escala los vectores canónicos, es decír, no rota ni se desplaza, de tal forma que los vectores resultantes de la transformación están en el span de los vectores iniciales.<br>\n",
    " <img src=\"https://mathsmartinthomas.files.wordpress.com/2014/12/diag41.png\"/>\n",
    " <br>\n",
    " En el caso de la <i> matriz ortogonal</i> la transformación es una rotación y/o reflexión, preserva angulos y longitudes y el volumen no cambia (el determinante es 1 ó -1). \n",
    " <br>\n",
    " <img src=\"http://fourier.eng.hmc.edu/e101/lectures/unitary_transform_2.gif\"/>\n",
    "  <br><br><br>\n",
    " <b>3) ¿Qué es la descomposición en valores singulares de una matriz?</b><br><br>\n",
    " La descomposición de una matriz en valores singulares es representar una matriz <b>A</b> como el producto de tres matrices; <b>U</b>, <b>&Sigma;</b> y <b>V</b>. De tal forma que:<br><br>\n",
    " <b>A</b> = <b>U&Sigma;V</b>(t)<br><br>\n",
    " Donde:<br>\n",
    " <b>A</b> es una matriz de mxn\n",
    " <br>\n",
    " <b>U</b> es una matriz ortogonal de mxm\n",
    "  <br>\n",
    " <b>V</b> es una matriz ortogonal de nxn\n",
    "  <br>\n",
    " <b>&Sigma;</b> es una matriz diagonal acompletada por ceros en las dimensiones sobrantes\n",
    " <br><br>\n",
    " <img src = \"http://www.alglib.net/matrixops/general/i/svd1.gif\"/>\n",
    "  <br><br><br>\n",
    " <b>4) ¿Qué es diagonalizar una matriz y qué representan los eigenvectores?</b><br><br>\n",
    " Una matriz es <b>diagonalizable</b> si mediante un cambio de base puede (una transformación) reducirse al producto entre dos matrices ortogonales y <b>una matriz diagonal</b>. De tal forma que se puedan hacer transformaciones a dicha matriz diagonal y luego regresar a su base original, ya que las operaciones en matrices diagonales son mucho menos costosas y el resultado es equivalente.<br><br>\n",
    " Se dice que la matriz A es diagonalizable cuando; <br><br>\n",
    " <b>A</b> = <b>PDP</b>(-)<br><br>\n",
    " Donde:<br>\n",
    " <b>A</b> es una matriz de mxn\n",
    " <br>\n",
    " <b>P</b> es una matriz invertible cuyos vectores son los eigenvectores de A\n",
    " <br>\n",
    " <b>D</b> es una matriz diagonal cuyos valores son los eigenvalores de A\n",
    " <br><br>\n",
    " <img src=\"https://www.matesfacil.com/diagonalizable.jpg\"/>\n",
    " \n",
    " <br><br><br>\n"
   ]
  },
  {
   "cell_type": "markdown",
   "metadata": {},
   "source": [
    " <b>5) ¿Intuitivamente qué son los eigenvectores?</b><br><br>\n",
    " Los eigenvectores son aquellos que en una transformación solamente escalan sus magnitudes pero no se mueven, dicho de otra forma, son aquellos vectores que van a permanecer en su <b>span</b> después de ser transformados, por lo tanto;<br><br>\n",
    " Se dice que el vector <b>x</b> es <u>eigenvector</u> si se cumple que;<br><br>\n",
    " <b>Ax</b> = <b>&lambda;x</b>\n",
    " <br><br>\n",
    " Donde:<br>\n",
    " <b>A</b> es una matriz\n",
    " <br>\n",
    " <b>x</b> es un vector\n",
    " <br>\n",
    " <b>&lambda;</b> es un escalar (y un eigenvalor)\n",
    " <br><br>\n",
    " <img src = \"https://upload.wikimedia.org/wikipedia/commons/thumb/5/58/Eigenvalue_equation.svg/500px-Eigenvalue_equation.svg.png\"/>"
   ]
  },
  {
   "cell_type": "markdown",
   "metadata": {},
   "source": [
    "<b>6) ¿Cómo interpretas la descomposición en valores singulares como una composición de tres tipos de transformaciones lineales simples?</b><br><br>\n",
    "<b>M</b> = <b>U&Sigma;V</b>(t)<br><br>\n",
    " Donde:<br>\n",
    " <b>M</b> es una matriz de mxn\n",
    " <br>\n",
    " <b>U</b> es una matriz ortogonal de mxm\n",
    "  <br>\n",
    " <b>V</b> es una matriz ortogonal de nxn\n",
    "  <br>\n",
    " <b>&Sigma;</b> es una matriz diagonal acompletada por ceros en las dimensiones sobrantes\n",
    " <br><br>\n",
    " La interpretación intiuitiva es que una matriz o transformación lineal (<b>M</b>) se puede representar de manera equivalente como una rotación (<b>V</b>(t)) más una redimensión (<b>&Sigma;</b>) más una rotación de los ejes canónicos (<b>U</b>).<br><br>\n",
    " <img src=\"https://upload.wikimedia.org/wikipedia/commons/b/bb/Singular-Value-Decomposition.svg\"/>\n"
   ]
  },
  {
   "cell_type": "markdown",
   "metadata": {},
   "source": [
    "<b>7) ¿Qué relación hay entre la descomposición en valores singulares y la diagonalización?</b><br><br>\n",
    "La diagonalización de una matriz <b>A</b> se lleva a cabo de la siguiente forma:<br><br>\n",
    "<b>A</b> = <b>PDP</b>(-)<br><br>\n",
    " Donde:<br>\n",
    " <b>A</b> es una matriz de mxn\n",
    " <br>\n",
    " <b>P</b> es una matriz invertible cuyos vectores son los eigenvectores de A\n",
    " <br>\n",
    " <b>D</b> es una matriz diagonal cuyos valores son los eigenvalores de A\n",
    " <br><br>\n",
    " Y la descomposición en valores singulares para dicha matriz <b>A</b> de la siguiente forma:<br><br>\n",
    " <b>A</b> = <b>U&Sigma;V</b>(t)<br><br>\n",
    " Donde:<br>\n",
    " <b>A</b> es una matriz de mxn\n",
    " <br>\n",
    " <b>U</b> es una matriz ortogonal de mxm\n",
    "  <br>\n",
    " <b>V</b> es una matriz ortogonal de nxn\n",
    "  <br>\n",
    " <b>&Sigma;</b> es una matriz diagonal acompletada por ceros en las dimensiones sobrantes\n",
    " <br><br>\n",
    "Pero si multiplicamos cada lado por la transpuesta nos da:<br><br>\n",
    " <b>A</b>(t)<b>A</b> = <b>V&Sigma;</b>(t)<b>U</b>(t) * <b>U&Sigma;V</b>(t)<br><br>\n",
    "Cancelamos <b>U</b>(t) * <b>U</b> y nos queda:<br><br>\n",
    "  <b>A</b>(t)<b>A</b> = <b>V&Sigma;</b>(t) * <b>&Sigma;V</b>(t)<br><br>\n",
    "Pero como <b>&Sigma;</b>(t) * <b>&Sigma;</b> es diagonal llamemosla <b>D</b>, llegamos a la forma de matriz diagonalizada:<br><br>\n",
    "<b>A</b>(t)<b>A</b>  = <b>VDV</b>(-)<br><br>\n",
    "Donde:<br>\n",
    "<b>V</b> son los ergenvectores de <b>A</b>(t)<b>A</b> con ergenvalores los cuadrados de los valores singulares.\n",
    "<br><br>\n"
   ]
  },
  {
   "cell_type": "markdown",
   "metadata": {
    "collapsed": true
   },
   "source": [
    "<b>8) ¿Cómo se usa la descomposición en valores singulares para dar una aproximación de rango menor a una matriz?</b><br><br>\n",
    "\n",
    "<br><br>"
   ]
  },
  {
   "cell_type": "markdown",
   "metadata": {},
   "source": [
    "<b>9) Describe el método de minimización por descenso gradiente</b><br><br>\n",
    "Se llama <u>gradiente</u> a un <b>vector de derivadas de una función en varias direcciones</b>. El gradiente se puede representar como un vector que apunta en la dirección donde mayor crecimiento (ó decrecimiento) hay de una función multidimiensional, en el caso de un espacio tridimensional, el vector es una función de <b>x</b> y <b>y</b> apuntando hacia donde la superficie (<b>z</b>) sea mayor (ó menor). Si el gradiente tiene un valor negativo implica que la función, hacia donde está apuntando el gradiente, tiene pendiente descendiente.<br><br>\n",
    "<img src=\"http://www.sharetechnote.com/image/Calculus_Gradient_02.png\"/>\n",
    "<br><br>\n",
    "Cabe mencionar que los gradientes son perpendiculares a las <i>curvas de nivel</i>;<br><br>\n",
    "<img src=\"http://www.sharetechnote.com/image/Calculus_Gradient_04.png\"/>\n",
    "<br><br>\n",
    "Por lo tanto, el algoritmo de <b>DESCENSO DE GRADIENTE</b> utiliza este vector dirección para maximizar (o minimizar) algún objetivo, haciendo uso de esta técnica se dan \"pasos\" hacia la dirección en la que la función aumenta (o disminuye) más para llegar al óptimo. El tamaño de los pasos que se dan se podría determinar con el escalar <b>&alpha;</b>.<br><br> El algoritmo de descenso de gradiente consiste en acutalizar una ubicación cada \"paso\" hasta llegar al mínimo como se muestra en la siguiente figura:\n",
    "\n",
    "<br><br>\n",
    "<img src=\"https://s3-ap-south-1.amazonaws.com/av-blog-media/wp-content/uploads/2017/03/06100746/grad.png\"/>\n",
    "<br><br>"
   ]
  },
  {
   "cell_type": "markdown",
   "metadata": {},
   "source": [
    "<b>10) Menciona cuatro ejemplos de problemas de optimización (dos con restricciones y dos sin restricciones) que te parezcan interesantes como Científico de Datos</b><br><br>\n",
    "\n",
    "1) Maximizar la utilidad esperada de una inversión distribuyendo el capital en tres productos financieros diferentes. Restricción: el mínimo a invertír en cualquiera de los tres productos financieros es 20% (para distribuír el riesgo).<br>\n",
    "\n",
    "2) Sistema de recomendación de canciones; Maximizar pronóstico de que la siguiente canción le guste al usuario. Restricción: Una misma canción no puede aparecer más de 1 vez cada 3 días (para no 'quemar' la canción).\n",
    "<br>\n",
    "\n",
    "3) Optimización de algoritmo de predicción de rotación de empleados. Se define el costo como la diferencia cuadrática entre la predicción (en meses) y el valor real de la duración de cada empleado. Utilizando algoritmo de descenso de gradiente sobre la función de costo se llega a la mejor solución.\n",
    "<br>\n",
    "\n",
    "4) Maximización de utilidad de tienda departamental. Se cambian semanalmente los precios de todos los artículos de una zona durante varios meses y se \"apunta\" la utilidad (ventas - costos y gastos de venta) entre el número de personas que estuvieron en la tienda. El problema es buscar para cada variación de precios la máxima utilidad de cada tipo de artículo (probablemente sean diferentes en diferentes variaciones).\n",
    "<br>\n",
    "\n"
   ]
  },
  {
   "cell_type": "markdown",
   "metadata": {
    "collapsed": true
   },
   "source": [
    "## Aproximar Imagen por medio de SVD (low rank)"
   ]
  },
  {
   "cell_type": "markdown",
   "metadata": {},
   "source": [
    "Para la transformación de imagen en varios tamaños de aproximación utilicé <a href=\"https://github.com/kaityo256/image_svd\"> este proyecto</a>. <br><br>\n",
    "El programa toma una imágen y la convierte en una matriz \"<b>A</b>\" de pixeles \"grises\" por medio de la función <b>Numpy.asarray(imagen)</b>, a dicha imágen le realiza la descomposición y la  aproxima con el rango elegido '<b>r</b>'. Llamemos la matriz resultante: \"<b>B</b>\", de tal modo que:\n",
    "<br><br>\n",
    "<b>A</b> es una matriz de mxn (convertida de la imágen)\n",
    "<br>\n",
    "<b>r</b> es un entero que representa el rango elegido\n",
    "<br><br> y:\n",
    "<br>\n",
    "<b>Ur</b> es una matriz de mx<b>r</b>\n",
    "<br>\n",
    "<b>&Sigma;r</b> es una matriz diagonal de <b>r</b>x<b>r</b>\n",
    "<br>\n",
    "<b>Vr</b> es una matriz de <b>r</b>xm\n",
    "<br><br>\n",
    "Y <b>B</b> es una nueva matriz pseudo-inversa de mxn que <b>aproxima</b> la matriz <b>A</b> multiplicando Ur*&Sigma;r*Vr.\n",
    "<br>\n",
    "<br>\n",
    "De tal modo que pudimos aproximar la matriz A de nxm utilizando tres matrices de (mxr, rxr y rxm) respectivamente, utilizanado muchísima menos información. <br>Una posible aplicación es el envío de imágenes de baja resolución para videos en dispositivos con internet lento. Se envía una aproximación de la información pero con muchos menos 'datos' de tal forma que puedan ver el video en tiempo real aunque sea con menor resolución."
   ]
  },
  {
   "cell_type": "markdown",
   "metadata": {},
   "source": [
    "## Solución de equación mediante pseudoinversa SVD"
   ]
  },
  {
   "cell_type": "code",
   "execution_count": 7,
   "metadata": {},
   "outputs": [],
   "source": [
    "import numpy as np\n",
    "from numpy import *\n",
    "Eq = np.array([[1, 1, -1, 9],[0, 1, 3, 3],[-1, 0, -2, 2]])\n",
    "\n",
    "A = Eq[:,0:3] # As\n",
    "b = Eq[:,3] # Resultados 9, 3, 2\n",
    "\n",
    "# Las soluciones son: [0.666666666666667, 7.0, -1.3333333333333333] "
   ]
  },
  {
   "cell_type": "code",
   "execution_count": 8,
   "metadata": {
    "collapsed": true
   },
   "outputs": [],
   "source": [
    "U,s,V = linalg.svd(A) # descomposición SVD de A\n",
    "\n",
    "# inversa usando pinv\n",
    "pinv = linalg.pinv(A)\n",
    "# inversa usando descomposición SVD\n",
    "pinv_svd = dot(dot(V.T,linalg.inv(diag(s))),U.T)"
   ]
  },
  {
   "cell_type": "code",
   "execution_count": 9,
   "metadata": {},
   "outputs": [
    {
     "data": {
      "text/plain": [
       "array([ 0.66666667,  7.        , -1.33333333])"
      ]
     },
     "execution_count": 9,
     "metadata": {},
     "output_type": "execute_result"
    }
   ],
   "source": [
    "xPinv = dot(pinv_svd, b) # Resolviendo Ax=b con x = A^-1*b\n",
    "xPinv.T"
   ]
  },
  {
   "cell_type": "code",
   "execution_count": 10,
   "metadata": {},
   "outputs": [
    {
     "data": {
      "text/plain": [
       "array([ 0.66666667,  7.        , -1.33333333])"
      ]
     },
     "execution_count": 10,
     "metadata": {},
     "output_type": "execute_result"
    }
   ],
   "source": [
    "# Resolviendo Ax=b usando ecuación\n",
    "c = dot(U.T,b) # c = U^t*b\n",
    "w = linalg.solve(diag(s),c) # w = V^t*c\n",
    "xSVD = dot(V.T,w) # x = V*w\n",
    "xSVD.T"
   ]
  },
  {
   "cell_type": "markdown",
   "metadata": {},
   "source": [
    "# Resolviendo caso A=[[1,1],[0,0]]"
   ]
  },
  {
   "cell_type": "code",
   "execution_count": 34,
   "metadata": {
    "collapsed": true
   },
   "outputs": [],
   "source": [
    "Eq = np.array([[1, 1, 4],[0, 0, 0]])\n",
    "\n",
    "A = Eq[:,0:2] # As\n",
    "b = Eq[:,2] # Resultados 9, 3, 2"
   ]
  },
  {
   "cell_type": "code",
   "execution_count": 35,
   "metadata": {
    "scrolled": true
   },
   "outputs": [
    {
     "ename": "LinAlgError",
     "evalue": "Singular matrix",
     "output_type": "error",
     "traceback": [
      "\u001b[0;31m---------------------------------------------------------------------------\u001b[0m",
      "\u001b[0;31mLinAlgError\u001b[0m                               Traceback (most recent call last)",
      "\u001b[0;32m<ipython-input-35-fbac25605052>\u001b[0m in \u001b[0;36m<module>\u001b[0;34m()\u001b[0m\n\u001b[1;32m      1\u001b[0m \u001b[0mU\u001b[0m\u001b[0;34m,\u001b[0m\u001b[0ms\u001b[0m\u001b[0;34m,\u001b[0m\u001b[0mV\u001b[0m \u001b[0;34m=\u001b[0m \u001b[0mlinalg\u001b[0m\u001b[0;34m.\u001b[0m\u001b[0msvd\u001b[0m\u001b[0;34m(\u001b[0m\u001b[0mA\u001b[0m\u001b[0;34m)\u001b[0m\u001b[0;34m\u001b[0m\u001b[0m\n\u001b[1;32m      2\u001b[0m \u001b[0mc\u001b[0m \u001b[0;34m=\u001b[0m \u001b[0mdot\u001b[0m\u001b[0;34m(\u001b[0m\u001b[0mU\u001b[0m\u001b[0;34m.\u001b[0m\u001b[0mT\u001b[0m\u001b[0;34m,\u001b[0m\u001b[0mb\u001b[0m\u001b[0;34m)\u001b[0m \u001b[0;31m# c = U^t*b\u001b[0m\u001b[0;34m\u001b[0m\u001b[0m\n\u001b[0;32m----> 3\u001b[0;31m \u001b[0mw\u001b[0m \u001b[0;34m=\u001b[0m \u001b[0mlinalg\u001b[0m\u001b[0;34m.\u001b[0m\u001b[0msolve\u001b[0m\u001b[0;34m(\u001b[0m\u001b[0mdiag\u001b[0m\u001b[0;34m(\u001b[0m\u001b[0ms\u001b[0m\u001b[0;34m)\u001b[0m\u001b[0;34m,\u001b[0m\u001b[0mc\u001b[0m\u001b[0;34m)\u001b[0m \u001b[0;31m# w = V^t*c\u001b[0m\u001b[0;34m\u001b[0m\u001b[0m\n\u001b[0m\u001b[1;32m      4\u001b[0m \u001b[0mxSVD\u001b[0m \u001b[0;34m=\u001b[0m \u001b[0mdot\u001b[0m\u001b[0;34m(\u001b[0m\u001b[0mV\u001b[0m\u001b[0;34m.\u001b[0m\u001b[0mT\u001b[0m\u001b[0;34m,\u001b[0m\u001b[0mw\u001b[0m\u001b[0;34m)\u001b[0m \u001b[0;31m# x = V*w\u001b[0m\u001b[0;34m\u001b[0m\u001b[0m\n\u001b[1;32m      5\u001b[0m \u001b[0mxSVD\u001b[0m\u001b[0;34m.\u001b[0m\u001b[0mT\u001b[0m\u001b[0;34m\u001b[0m\u001b[0m\n",
      "\u001b[0;32m/home/federico/anaconda3/lib/python3.6/site-packages/numpy/linalg/linalg.py\u001b[0m in \u001b[0;36msolve\u001b[0;34m(a, b)\u001b[0m\n\u001b[1;32m    382\u001b[0m     \u001b[0msignature\u001b[0m \u001b[0;34m=\u001b[0m \u001b[0;34m'DD->D'\u001b[0m \u001b[0;32mif\u001b[0m \u001b[0misComplexType\u001b[0m\u001b[0;34m(\u001b[0m\u001b[0mt\u001b[0m\u001b[0;34m)\u001b[0m \u001b[0;32melse\u001b[0m \u001b[0;34m'dd->d'\u001b[0m\u001b[0;34m\u001b[0m\u001b[0m\n\u001b[1;32m    383\u001b[0m     \u001b[0mextobj\u001b[0m \u001b[0;34m=\u001b[0m \u001b[0mget_linalg_error_extobj\u001b[0m\u001b[0;34m(\u001b[0m\u001b[0m_raise_linalgerror_singular\u001b[0m\u001b[0;34m)\u001b[0m\u001b[0;34m\u001b[0m\u001b[0m\n\u001b[0;32m--> 384\u001b[0;31m     \u001b[0mr\u001b[0m \u001b[0;34m=\u001b[0m \u001b[0mgufunc\u001b[0m\u001b[0;34m(\u001b[0m\u001b[0ma\u001b[0m\u001b[0;34m,\u001b[0m \u001b[0mb\u001b[0m\u001b[0;34m,\u001b[0m \u001b[0msignature\u001b[0m\u001b[0;34m=\u001b[0m\u001b[0msignature\u001b[0m\u001b[0;34m,\u001b[0m \u001b[0mextobj\u001b[0m\u001b[0;34m=\u001b[0m\u001b[0mextobj\u001b[0m\u001b[0;34m)\u001b[0m\u001b[0;34m\u001b[0m\u001b[0m\n\u001b[0m\u001b[1;32m    385\u001b[0m \u001b[0;34m\u001b[0m\u001b[0m\n\u001b[1;32m    386\u001b[0m     \u001b[0;32mreturn\u001b[0m \u001b[0mwrap\u001b[0m\u001b[0;34m(\u001b[0m\u001b[0mr\u001b[0m\u001b[0;34m.\u001b[0m\u001b[0mastype\u001b[0m\u001b[0;34m(\u001b[0m\u001b[0mresult_t\u001b[0m\u001b[0;34m,\u001b[0m \u001b[0mcopy\u001b[0m\u001b[0;34m=\u001b[0m\u001b[0;32mFalse\u001b[0m\u001b[0;34m)\u001b[0m\u001b[0;34m)\u001b[0m\u001b[0;34m\u001b[0m\u001b[0m\n",
      "\u001b[0;32m/home/federico/anaconda3/lib/python3.6/site-packages/numpy/linalg/linalg.py\u001b[0m in \u001b[0;36m_raise_linalgerror_singular\u001b[0;34m(err, flag)\u001b[0m\n\u001b[1;32m     88\u001b[0m \u001b[0;34m\u001b[0m\u001b[0m\n\u001b[1;32m     89\u001b[0m \u001b[0;32mdef\u001b[0m \u001b[0m_raise_linalgerror_singular\u001b[0m\u001b[0;34m(\u001b[0m\u001b[0merr\u001b[0m\u001b[0;34m,\u001b[0m \u001b[0mflag\u001b[0m\u001b[0;34m)\u001b[0m\u001b[0;34m:\u001b[0m\u001b[0;34m\u001b[0m\u001b[0m\n\u001b[0;32m---> 90\u001b[0;31m     \u001b[0;32mraise\u001b[0m \u001b[0mLinAlgError\u001b[0m\u001b[0;34m(\u001b[0m\u001b[0;34m\"Singular matrix\"\u001b[0m\u001b[0;34m)\u001b[0m\u001b[0;34m\u001b[0m\u001b[0m\n\u001b[0m\u001b[1;32m     91\u001b[0m \u001b[0;34m\u001b[0m\u001b[0m\n\u001b[1;32m     92\u001b[0m \u001b[0;32mdef\u001b[0m \u001b[0m_raise_linalgerror_nonposdef\u001b[0m\u001b[0;34m(\u001b[0m\u001b[0merr\u001b[0m\u001b[0;34m,\u001b[0m \u001b[0mflag\u001b[0m\u001b[0;34m)\u001b[0m\u001b[0;34m:\u001b[0m\u001b[0;34m\u001b[0m\u001b[0m\n",
      "\u001b[0;31mLinAlgError\u001b[0m: Singular matrix"
     ]
    }
   ],
   "source": [
    "U,s,V = linalg.svd(A)\n",
    "c = dot(U.T,b) # c = U^t*b\n",
    "w = linalg.solve(diag(s),c) # w = V^t*c\n",
    "xSVD = dot(V.T,w) # x = V*w\n",
    "xSVD.T"
   ]
  },
  {
   "cell_type": "markdown",
   "metadata": {},
   "source": [
    "## El experimento anerior nos da error por ser una matriz singular, ahora intentamos con A=[[1,1],[0,1e-32]]"
   ]
  },
  {
   "cell_type": "code",
   "execution_count": 44,
   "metadata": {
    "collapsed": true
   },
   "outputs": [],
   "source": [
    "Eq = np.array([[1, 1, 44],[0, 1e-32, 5]])\n",
    "\n",
    "A = Eq[:,0:2] # As\n",
    "b = Eq[:,2] # "
   ]
  },
  {
   "cell_type": "code",
   "execution_count": 45,
   "metadata": {},
   "outputs": [
    {
     "data": {
      "text/plain": [
       "array([ -5.00000000e+32,   5.00000000e+32])"
      ]
     },
     "execution_count": 45,
     "metadata": {},
     "output_type": "execute_result"
    }
   ],
   "source": [
    "U,s,V = linalg.svd(A)\n",
    "pinv_svd = dot(dot(V.T,linalg.inv(diag(s))),U.T)\n",
    "xPinv = dot(pinv_svd, b) # Resolviendo Ax=b con x = A^-1*b\n",
    "xPinv.T"
   ]
  },
  {
   "cell_type": "markdown",
   "metadata": {},
   "source": [
    "## Intentando con b en imagen de A\n",
    "Para esto necesitamos que b resulte del producto de un vector multiplicado por A, por ejemplo [1,0]"
   ]
  },
  {
   "cell_type": "code",
   "execution_count": 29,
   "metadata": {
    "collapsed": true
   },
   "outputs": [],
   "source": [
    "Eq = np.array([[1, 1, 0],[0, 0, 1]])\n",
    "\n",
    "A = Eq[:,0:2] # As\n",
    "b = Eq[:,2] # "
   ]
  },
  {
   "cell_type": "code",
   "execution_count": 30,
   "metadata": {},
   "outputs": [
    {
     "ename": "LinAlgError",
     "evalue": "Singular matrix",
     "output_type": "error",
     "traceback": [
      "\u001b[0;31m---------------------------------------------------------------------------\u001b[0m",
      "\u001b[0;31mLinAlgError\u001b[0m                               Traceback (most recent call last)",
      "\u001b[0;32m<ipython-input-30-d85cd0a92d5d>\u001b[0m in \u001b[0;36m<module>\u001b[0;34m()\u001b[0m\n\u001b[1;32m      1\u001b[0m \u001b[0mU\u001b[0m\u001b[0;34m,\u001b[0m\u001b[0ms\u001b[0m\u001b[0;34m,\u001b[0m\u001b[0mV\u001b[0m \u001b[0;34m=\u001b[0m \u001b[0mlinalg\u001b[0m\u001b[0;34m.\u001b[0m\u001b[0msvd\u001b[0m\u001b[0;34m(\u001b[0m\u001b[0mA\u001b[0m\u001b[0;34m)\u001b[0m\u001b[0;34m\u001b[0m\u001b[0m\n\u001b[0;32m----> 2\u001b[0;31m \u001b[0mpinv_svd\u001b[0m \u001b[0;34m=\u001b[0m \u001b[0mdot\u001b[0m\u001b[0;34m(\u001b[0m\u001b[0mdot\u001b[0m\u001b[0;34m(\u001b[0m\u001b[0mV\u001b[0m\u001b[0;34m.\u001b[0m\u001b[0mT\u001b[0m\u001b[0;34m,\u001b[0m\u001b[0mlinalg\u001b[0m\u001b[0;34m.\u001b[0m\u001b[0minv\u001b[0m\u001b[0;34m(\u001b[0m\u001b[0mdiag\u001b[0m\u001b[0;34m(\u001b[0m\u001b[0ms\u001b[0m\u001b[0;34m)\u001b[0m\u001b[0;34m)\u001b[0m\u001b[0;34m)\u001b[0m\u001b[0;34m,\u001b[0m\u001b[0mU\u001b[0m\u001b[0;34m.\u001b[0m\u001b[0mT\u001b[0m\u001b[0;34m)\u001b[0m\u001b[0;34m\u001b[0m\u001b[0m\n\u001b[0m\u001b[1;32m      3\u001b[0m \u001b[0mxPinv\u001b[0m \u001b[0;34m=\u001b[0m \u001b[0mdot\u001b[0m\u001b[0;34m(\u001b[0m\u001b[0mpinv_svd\u001b[0m\u001b[0;34m,\u001b[0m \u001b[0mb\u001b[0m\u001b[0;34m)\u001b[0m \u001b[0;31m# Resolviendo Ax=b con x = A^-1*b\u001b[0m\u001b[0;34m\u001b[0m\u001b[0m\n\u001b[1;32m      4\u001b[0m \u001b[0mxPinv\u001b[0m\u001b[0;34m.\u001b[0m\u001b[0mT\u001b[0m\u001b[0;34m\u001b[0m\u001b[0m\n",
      "\u001b[0;32m/home/federico/anaconda3/lib/python3.6/site-packages/numpy/linalg/linalg.py\u001b[0m in \u001b[0;36minv\u001b[0;34m(a)\u001b[0m\n\u001b[1;32m    524\u001b[0m     \u001b[0msignature\u001b[0m \u001b[0;34m=\u001b[0m \u001b[0;34m'D->D'\u001b[0m \u001b[0;32mif\u001b[0m \u001b[0misComplexType\u001b[0m\u001b[0;34m(\u001b[0m\u001b[0mt\u001b[0m\u001b[0;34m)\u001b[0m \u001b[0;32melse\u001b[0m \u001b[0;34m'd->d'\u001b[0m\u001b[0;34m\u001b[0m\u001b[0m\n\u001b[1;32m    525\u001b[0m     \u001b[0mextobj\u001b[0m \u001b[0;34m=\u001b[0m \u001b[0mget_linalg_error_extobj\u001b[0m\u001b[0;34m(\u001b[0m\u001b[0m_raise_linalgerror_singular\u001b[0m\u001b[0;34m)\u001b[0m\u001b[0;34m\u001b[0m\u001b[0m\n\u001b[0;32m--> 526\u001b[0;31m     \u001b[0mainv\u001b[0m \u001b[0;34m=\u001b[0m \u001b[0m_umath_linalg\u001b[0m\u001b[0;34m.\u001b[0m\u001b[0minv\u001b[0m\u001b[0;34m(\u001b[0m\u001b[0ma\u001b[0m\u001b[0;34m,\u001b[0m \u001b[0msignature\u001b[0m\u001b[0;34m=\u001b[0m\u001b[0msignature\u001b[0m\u001b[0;34m,\u001b[0m \u001b[0mextobj\u001b[0m\u001b[0;34m=\u001b[0m\u001b[0mextobj\u001b[0m\u001b[0;34m)\u001b[0m\u001b[0;34m\u001b[0m\u001b[0m\n\u001b[0m\u001b[1;32m    527\u001b[0m     \u001b[0;32mreturn\u001b[0m \u001b[0mwrap\u001b[0m\u001b[0;34m(\u001b[0m\u001b[0mainv\u001b[0m\u001b[0;34m.\u001b[0m\u001b[0mastype\u001b[0m\u001b[0;34m(\u001b[0m\u001b[0mresult_t\u001b[0m\u001b[0;34m,\u001b[0m \u001b[0mcopy\u001b[0m\u001b[0;34m=\u001b[0m\u001b[0;32mFalse\u001b[0m\u001b[0;34m)\u001b[0m\u001b[0;34m)\u001b[0m\u001b[0;34m\u001b[0m\u001b[0m\n\u001b[1;32m    528\u001b[0m \u001b[0;34m\u001b[0m\u001b[0m\n",
      "\u001b[0;32m/home/federico/anaconda3/lib/python3.6/site-packages/numpy/linalg/linalg.py\u001b[0m in \u001b[0;36m_raise_linalgerror_singular\u001b[0;34m(err, flag)\u001b[0m\n\u001b[1;32m     88\u001b[0m \u001b[0;34m\u001b[0m\u001b[0m\n\u001b[1;32m     89\u001b[0m \u001b[0;32mdef\u001b[0m \u001b[0m_raise_linalgerror_singular\u001b[0m\u001b[0;34m(\u001b[0m\u001b[0merr\u001b[0m\u001b[0;34m,\u001b[0m \u001b[0mflag\u001b[0m\u001b[0;34m)\u001b[0m\u001b[0;34m:\u001b[0m\u001b[0;34m\u001b[0m\u001b[0m\n\u001b[0;32m---> 90\u001b[0;31m     \u001b[0;32mraise\u001b[0m \u001b[0mLinAlgError\u001b[0m\u001b[0;34m(\u001b[0m\u001b[0;34m\"Singular matrix\"\u001b[0m\u001b[0;34m)\u001b[0m\u001b[0;34m\u001b[0m\u001b[0m\n\u001b[0m\u001b[1;32m     91\u001b[0m \u001b[0;34m\u001b[0m\u001b[0m\n\u001b[1;32m     92\u001b[0m \u001b[0;32mdef\u001b[0m \u001b[0m_raise_linalgerror_nonposdef\u001b[0m\u001b[0;34m(\u001b[0m\u001b[0merr\u001b[0m\u001b[0;34m,\u001b[0m \u001b[0mflag\u001b[0m\u001b[0;34m)\u001b[0m\u001b[0;34m:\u001b[0m\u001b[0;34m\u001b[0m\u001b[0m\n",
      "\u001b[0;31mLinAlgError\u001b[0m: Singular matrix"
     ]
    }
   ],
   "source": [
    "U,s,V = linalg.svd(A)\n",
    "pinv_svd = dot(dot(V.T,linalg.inv(diag(s))),U.T)\n",
    "xPinv = dot(pinv_svd, b) # Resolviendo Ax=b con x = A^-1*b\n",
    "xPinv.T"
   ]
  },
  {
   "cell_type": "markdown",
   "metadata": {},
   "source": [
    "Vemos que tampoco funciona por que da el error de \"matriz singular\"."
   ]
  },
  {
   "cell_type": "markdown",
   "metadata": {},
   "source": [
    "## Gradiente con PANDAS"
   ]
  },
  {
   "cell_type": "code",
   "execution_count": 72,
   "metadata": {
    "collapsed": true
   },
   "outputs": [],
   "source": [
    "import pandas as pd\n",
    "import numpy as np\n",
    "import matplotlib.pyplot as plt"
   ]
  },
  {
   "cell_type": "code",
   "execution_count": 73,
   "metadata": {},
   "outputs": [
    {
     "data": {
      "text/html": [
       "<div>\n",
       "<style>\n",
       "    .dataframe thead tr:only-child th {\n",
       "        text-align: right;\n",
       "    }\n",
       "\n",
       "    .dataframe thead th {\n",
       "        text-align: left;\n",
       "    }\n",
       "\n",
       "    .dataframe tbody tr th {\n",
       "        vertical-align: top;\n",
       "    }\n",
       "</style>\n",
       "<table border=\"1\" class=\"dataframe\">\n",
       "  <thead>\n",
       "    <tr style=\"text-align: right;\">\n",
       "      <th></th>\n",
       "      <th>col_unos</th>\n",
       "      <th>study_hours</th>\n",
       "      <th>sat_score</th>\n",
       "    </tr>\n",
       "  </thead>\n",
       "  <tbody>\n",
       "    <tr>\n",
       "      <th>0</th>\n",
       "      <td>1</td>\n",
       "      <td>4</td>\n",
       "      <td>390</td>\n",
       "    </tr>\n",
       "    <tr>\n",
       "      <th>1</th>\n",
       "      <td>1</td>\n",
       "      <td>9</td>\n",
       "      <td>580</td>\n",
       "    </tr>\n",
       "    <tr>\n",
       "      <th>2</th>\n",
       "      <td>1</td>\n",
       "      <td>10</td>\n",
       "      <td>650</td>\n",
       "    </tr>\n",
       "    <tr>\n",
       "      <th>3</th>\n",
       "      <td>1</td>\n",
       "      <td>14</td>\n",
       "      <td>730</td>\n",
       "    </tr>\n",
       "    <tr>\n",
       "      <th>4</th>\n",
       "      <td>1</td>\n",
       "      <td>4</td>\n",
       "      <td>410</td>\n",
       "    </tr>\n",
       "    <tr>\n",
       "      <th>5</th>\n",
       "      <td>1</td>\n",
       "      <td>7</td>\n",
       "      <td>530</td>\n",
       "    </tr>\n",
       "    <tr>\n",
       "      <th>6</th>\n",
       "      <td>1</td>\n",
       "      <td>12</td>\n",
       "      <td>600</td>\n",
       "    </tr>\n",
       "    <tr>\n",
       "      <th>7</th>\n",
       "      <td>1</td>\n",
       "      <td>22</td>\n",
       "      <td>790</td>\n",
       "    </tr>\n",
       "    <tr>\n",
       "      <th>8</th>\n",
       "      <td>1</td>\n",
       "      <td>1</td>\n",
       "      <td>350</td>\n",
       "    </tr>\n",
       "    <tr>\n",
       "      <th>9</th>\n",
       "      <td>1</td>\n",
       "      <td>3</td>\n",
       "      <td>400</td>\n",
       "    </tr>\n",
       "    <tr>\n",
       "      <th>10</th>\n",
       "      <td>1</td>\n",
       "      <td>8</td>\n",
       "      <td>590</td>\n",
       "    </tr>\n",
       "    <tr>\n",
       "      <th>11</th>\n",
       "      <td>1</td>\n",
       "      <td>11</td>\n",
       "      <td>640</td>\n",
       "    </tr>\n",
       "    <tr>\n",
       "      <th>12</th>\n",
       "      <td>1</td>\n",
       "      <td>5</td>\n",
       "      <td>450</td>\n",
       "    </tr>\n",
       "    <tr>\n",
       "      <th>13</th>\n",
       "      <td>1</td>\n",
       "      <td>6</td>\n",
       "      <td>520</td>\n",
       "    </tr>\n",
       "    <tr>\n",
       "      <th>14</th>\n",
       "      <td>1</td>\n",
       "      <td>10</td>\n",
       "      <td>690</td>\n",
       "    </tr>\n",
       "    <tr>\n",
       "      <th>15</th>\n",
       "      <td>1</td>\n",
       "      <td>11</td>\n",
       "      <td>690</td>\n",
       "    </tr>\n",
       "    <tr>\n",
       "      <th>16</th>\n",
       "      <td>1</td>\n",
       "      <td>16</td>\n",
       "      <td>770</td>\n",
       "    </tr>\n",
       "    <tr>\n",
       "      <th>17</th>\n",
       "      <td>1</td>\n",
       "      <td>13</td>\n",
       "      <td>700</td>\n",
       "    </tr>\n",
       "    <tr>\n",
       "      <th>18</th>\n",
       "      <td>1</td>\n",
       "      <td>13</td>\n",
       "      <td>730</td>\n",
       "    </tr>\n",
       "    <tr>\n",
       "      <th>19</th>\n",
       "      <td>1</td>\n",
       "      <td>10</td>\n",
       "      <td>640</td>\n",
       "    </tr>\n",
       "  </tbody>\n",
       "</table>\n",
       "</div>"
      ],
      "text/plain": [
       "    col_unos  study_hours  sat_score\n",
       "0          1            4        390\n",
       "1          1            9        580\n",
       "2          1           10        650\n",
       "3          1           14        730\n",
       "4          1            4        410\n",
       "5          1            7        530\n",
       "6          1           12        600\n",
       "7          1           22        790\n",
       "8          1            1        350\n",
       "9          1            3        400\n",
       "10         1            8        590\n",
       "11         1           11        640\n",
       "12         1            5        450\n",
       "13         1            6        520\n",
       "14         1           10        690\n",
       "15         1           11        690\n",
       "16         1           16        770\n",
       "17         1           13        700\n",
       "18         1           13        730\n",
       "19         1           10        640"
      ]
     },
     "execution_count": 73,
     "metadata": {},
     "output_type": "execute_result"
    }
   ],
   "source": [
    "sat = pd.read_csv(\"study_vs_sat.csv\")\n",
    "sat.insert(0, \"col_unos\", 1)\n",
    "sat"
   ]
  },
  {
   "cell_type": "markdown",
   "metadata": {},
   "source": [
    "Definamos la función de <b>minimización lineal</b> como:<br> <br>\n",
    "<b>&Theta; = (X(t)*X).inv * X(t)y</b><br>\n",
    "<br> Donde:<br>\n",
    "<b>X</b> = vector de nx2; \"col_unos y study_hours\"<br>\n",
    "<b>y</b> = vector de nx1; \"sat_score\"<br>\n",
    "<b>&Theta;</b> = vector de 1x2 para obtener escalares minimizadores."
   ]
  },
  {
   "cell_type": "code",
   "execution_count": 74,
   "metadata": {},
   "outputs": [
    {
     "data": {
      "text/plain": [
       "array([[ 353.1648795 ],\n",
       "       [  25.32646778]])"
      ]
     },
     "execution_count": 74,
     "metadata": {},
     "output_type": "execute_result"
    }
   ],
   "source": [
    "X = sat[['col_unos', 'study_hours']]\n",
    "y = sat[['sat_score']]\n",
    "Th = np.dot(np.dot(linalg.inv(np.dot(X.T,X)),X.T),y)\n",
    "Th"
   ]
  },
  {
   "cell_type": "markdown",
   "metadata": {},
   "source": [
    "Por lo tanto tenemos que <b>&Theta;</b> es una linea solución óptima que se intersecta el orígen en <b>&alpha;</b> = <b>353.16</b> y que tiene una pendiente de <b>&beta;</b> = <b>25.326</b>."
   ]
  },
  {
   "cell_type": "code",
   "execution_count": 75,
   "metadata": {},
   "outputs": [
    {
     "data": {
      "text/plain": [
       "<matplotlib.axes._subplots.AxesSubplot at 0x7fd1af8df978>"
      ]
     },
     "execution_count": 75,
     "metadata": {},
     "output_type": "execute_result"
    },
    {
     "data": {
      "image/png": "[encoded data removed]",
      "text/plain": [
       "<matplotlib.figure.Figure at 0x7fd1a6d28e80>"
      ]
     },
     "metadata": {},
     "output_type": "display_data"
    }
   ],
   "source": [
    "import matplotlib.pyplot as plt\n",
    "import matplotlib\n",
    "from matplotlib import interactive\n",
    "from sklearn.preprocessing import MinMaxScaler\n",
    "\n",
    "interactive(True)\n",
    "matplotlib.style.use('ggplot')\n",
    "\n",
    "scaler = MinMaxScaler()\n",
    "sat[['study_hours', 'sat_score']] = scaler.fit_transform(sat[['study_hours', 'sat_score']])\n",
    "sat.plot()\n"
   ]
  },
  {
   "cell_type": "code",
   "execution_count": 76,
   "metadata": {},
   "outputs": [
    {
     "data": {
      "text/html": [
       "<div>\n",
       "<style>\n",
       "    .dataframe thead tr:only-child th {\n",
       "        text-align: right;\n",
       "    }\n",
       "\n",
       "    .dataframe thead th {\n",
       "        text-align: left;\n",
       "    }\n",
       "\n",
       "    .dataframe tbody tr th {\n",
       "        vertical-align: top;\n",
       "    }\n",
       "</style>\n",
       "<table border=\"1\" class=\"dataframe\">\n",
       "  <thead>\n",
       "    <tr style=\"text-align: right;\">\n",
       "      <th></th>\n",
       "      <th>col_unos</th>\n",
       "      <th>study_hours</th>\n",
       "      <th>sat_score</th>\n",
       "    </tr>\n",
       "  </thead>\n",
       "  <tbody>\n",
       "    <tr>\n",
       "      <th>0</th>\n",
       "      <td>1</td>\n",
       "      <td>0.142857</td>\n",
       "      <td>0.090909</td>\n",
       "    </tr>\n",
       "    <tr>\n",
       "      <th>1</th>\n",
       "      <td>1</td>\n",
       "      <td>0.380952</td>\n",
       "      <td>0.522727</td>\n",
       "    </tr>\n",
       "    <tr>\n",
       "      <th>2</th>\n",
       "      <td>1</td>\n",
       "      <td>0.428571</td>\n",
       "      <td>0.681818</td>\n",
       "    </tr>\n",
       "    <tr>\n",
       "      <th>3</th>\n",
       "      <td>1</td>\n",
       "      <td>0.619048</td>\n",
       "      <td>0.863636</td>\n",
       "    </tr>\n",
       "    <tr>\n",
       "      <th>4</th>\n",
       "      <td>1</td>\n",
       "      <td>0.142857</td>\n",
       "      <td>0.136364</td>\n",
       "    </tr>\n",
       "    <tr>\n",
       "      <th>5</th>\n",
       "      <td>1</td>\n",
       "      <td>0.285714</td>\n",
       "      <td>0.409091</td>\n",
       "    </tr>\n",
       "    <tr>\n",
       "      <th>6</th>\n",
       "      <td>1</td>\n",
       "      <td>0.523810</td>\n",
       "      <td>0.568182</td>\n",
       "    </tr>\n",
       "    <tr>\n",
       "      <th>7</th>\n",
       "      <td>1</td>\n",
       "      <td>1.000000</td>\n",
       "      <td>1.000000</td>\n",
       "    </tr>\n",
       "    <tr>\n",
       "      <th>8</th>\n",
       "      <td>1</td>\n",
       "      <td>0.000000</td>\n",
       "      <td>0.000000</td>\n",
       "    </tr>\n",
       "    <tr>\n",
       "      <th>9</th>\n",
       "      <td>1</td>\n",
       "      <td>0.095238</td>\n",
       "      <td>0.113636</td>\n",
       "    </tr>\n",
       "    <tr>\n",
       "      <th>10</th>\n",
       "      <td>1</td>\n",
       "      <td>0.333333</td>\n",
       "      <td>0.545455</td>\n",
       "    </tr>\n",
       "    <tr>\n",
       "      <th>11</th>\n",
       "      <td>1</td>\n",
       "      <td>0.476190</td>\n",
       "      <td>0.659091</td>\n",
       "    </tr>\n",
       "    <tr>\n",
       "      <th>12</th>\n",
       "      <td>1</td>\n",
       "      <td>0.190476</td>\n",
       "      <td>0.227273</td>\n",
       "    </tr>\n",
       "    <tr>\n",
       "      <th>13</th>\n",
       "      <td>1</td>\n",
       "      <td>0.238095</td>\n",
       "      <td>0.386364</td>\n",
       "    </tr>\n",
       "    <tr>\n",
       "      <th>14</th>\n",
       "      <td>1</td>\n",
       "      <td>0.428571</td>\n",
       "      <td>0.772727</td>\n",
       "    </tr>\n",
       "    <tr>\n",
       "      <th>15</th>\n",
       "      <td>1</td>\n",
       "      <td>0.476190</td>\n",
       "      <td>0.772727</td>\n",
       "    </tr>\n",
       "    <tr>\n",
       "      <th>16</th>\n",
       "      <td>1</td>\n",
       "      <td>0.714286</td>\n",
       "      <td>0.954545</td>\n",
       "    </tr>\n",
       "    <tr>\n",
       "      <th>17</th>\n",
       "      <td>1</td>\n",
       "      <td>0.571429</td>\n",
       "      <td>0.795455</td>\n",
       "    </tr>\n",
       "    <tr>\n",
       "      <th>18</th>\n",
       "      <td>1</td>\n",
       "      <td>0.571429</td>\n",
       "      <td>0.863636</td>\n",
       "    </tr>\n",
       "    <tr>\n",
       "      <th>19</th>\n",
       "      <td>1</td>\n",
       "      <td>0.428571</td>\n",
       "      <td>0.659091</td>\n",
       "    </tr>\n",
       "  </tbody>\n",
       "</table>\n",
       "</div>"
      ],
      "text/plain": [
       "    col_unos  study_hours  sat_score\n",
       "0          1     0.142857   0.090909\n",
       "1          1     0.380952   0.522727\n",
       "2          1     0.428571   0.681818\n",
       "3          1     0.619048   0.863636\n",
       "4          1     0.142857   0.136364\n",
       "5          1     0.285714   0.409091\n",
       "6          1     0.523810   0.568182\n",
       "7          1     1.000000   1.000000\n",
       "8          1     0.000000   0.000000\n",
       "9          1     0.095238   0.113636\n",
       "10         1     0.333333   0.545455\n",
       "11         1     0.476190   0.659091\n",
       "12         1     0.190476   0.227273\n",
       "13         1     0.238095   0.386364\n",
       "14         1     0.428571   0.772727\n",
       "15         1     0.476190   0.772727\n",
       "16         1     0.714286   0.954545\n",
       "17         1     0.571429   0.795455\n",
       "18         1     0.571429   0.863636\n",
       "19         1     0.428571   0.659091"
      ]
     },
     "execution_count": 76,
     "metadata": {},
     "output_type": "execute_result"
    }
   ],
   "source": [
    "sat"
   ]
  },
  {
   "cell_type": "code",
   "execution_count": null,
   "metadata": {
    "collapsed": true
   },
   "outputs": [],
   "source": []
  }
 ],
 "metadata": {
  "kernelspec": {
   "display_name": "Python 3",
   "language": "python",
   "name": "python3"
  },
  "language_info": {
   "codemirror_mode": {
    "name": "ipython",
    "version": 3
   },
   "file_extension": ".py",
   "mimetype": "text/x-python",
   "name": "python",
   "nbconvert_exporter": "python",
   "pygments_lexer": "ipython3",
   "version": "3.6.1"
  }
 },
 "nbformat": 4,
 "nbformat_minor": 2
}
