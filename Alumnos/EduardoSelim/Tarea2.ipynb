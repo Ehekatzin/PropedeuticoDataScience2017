{
 "cells": [
  {
   "cell_type": "code",
   "execution_count": 9,
   "metadata": {
    "collapsed": true
   },
   "outputs": [],
   "source": [
    "import numpy as np"
   ]
  },
  {
   "cell_type": "code",
   "execution_count": 1,
   "metadata": {
    "collapsed": true
   },
   "outputs": [],
   "source": [
    "from PIL import Image"
   ]
  },
  {
   "cell_type": "code",
   "execution_count": 2,
   "metadata": {
    "collapsed": true
   },
   "outputs": [],
   "source": [
    "im = Image.open('london.png','r')\n",
    "col,row =  im.size"
   ]
  },
  {
   "cell_type": "code",
   "execution_count": 3,
   "metadata": {},
   "outputs": [
    {
     "data": {
      "text/plain": [
       "700"
      ]
     },
     "execution_count": 3,
     "metadata": {},
     "output_type": "execute_result"
    }
   ],
   "source": [
    "col"
   ]
  },
  {
   "cell_type": "code",
   "execution_count": 5,
   "metadata": {},
   "outputs": [
    {
     "data": {
      "text/plain": [
       "467"
      ]
     },
     "execution_count": 5,
     "metadata": {},
     "output_type": "execute_result"
    }
   ],
   "source": [
    "row"
   ]
  },
  {
   "cell_type": "code",
   "execution_count": 7,
   "metadata": {},
   "outputs": [
    {
     "data": {
      "text/plain": [
       "'RGB'"
      ]
     },
     "execution_count": 7,
     "metadata": {},
     "output_type": "execute_result"
    }
   ],
   "source": [
    "im.mode"
   ]
  },
  {
   "cell_type": "code",
   "execution_count": 10,
   "metadata": {
    "collapsed": true
   },
   "outputs": [],
   "source": [
    "data = np.zeros((row*col, 5))"
   ]
  },
  {
   "cell_type": "code",
   "execution_count": 11,
   "metadata": {},
   "outputs": [
    {
     "data": {
      "text/plain": [
       "array([[ 0.,  0.,  0.,  0.,  0.],\n",
       "       [ 0.,  0.,  0.,  0.,  0.],\n",
       "       [ 0.,  0.,  0.,  0.,  0.],\n",
       "       ..., \n",
       "       [ 0.,  0.,  0.,  0.,  0.],\n",
       "       [ 0.,  0.,  0.,  0.,  0.],\n",
       "       [ 0.,  0.,  0.,  0.,  0.]])"
      ]
     },
     "execution_count": 11,
     "metadata": {},
     "output_type": "execute_result"
    }
   ],
   "source": [
    "data"
   ]
  },
  {
   "cell_type": "code",
   "execution_count": 12,
   "metadata": {
    "collapsed": true
   },
   "outputs": [],
   "source": [
    "pixeles = im.load()"
   ]
  },
  {
   "cell_type": "code",
   "execution_count": 13,
   "metadata": {},
   "outputs": [
    {
     "data": {
      "text/plain": [
       "<PixelAccess at 0x24c9d1d8890>"
      ]
     },
     "execution_count": 13,
     "metadata": {},
     "output_type": "execute_result"
    }
   ],
   "source": [
    "pixeles"
   ]
  },
  {
   "cell_type": "code",
   "execution_count": 14,
   "metadata": {},
   "outputs": [
    {
     "data": {
      "text/plain": [
       "(24, 24, 24)"
      ]
     },
     "execution_count": 14,
     "metadata": {},
     "output_type": "execute_result"
    }
   ],
   "source": [
    "pixeles[699,466]"
   ]
  },
  {
   "cell_type": "code",
   "execution_count": 16,
   "metadata": {
    "collapsed": true
   },
   "outputs": [],
   "source": [
    "for i in range(col):\n",
    "    for j in range(row):\n",
    "        r,g,b =  pixeles[i,j]\n",
    "        data[j*col + i,:] = r,g,b,j,i"
   ]
  },
  {
   "cell_type": "code",
   "execution_count": 17,
   "metadata": {},
   "outputs": [
    {
     "data": {
      "text/plain": [
       "array([[  16.,   16.,   16.,    0.,    0.],\n",
       "       [  16.,   16.,   16.,    0.,    1.],\n",
       "       [  16.,   16.,   16.,    0.,    2.],\n",
       "       ..., \n",
       "       [  34.,   34.,   34.,  466.,  697.],\n",
       "       [  37.,   37.,   37.,  466.,  698.],\n",
       "       [  24.,   24.,   24.,  466.,  699.]])"
      ]
     },
     "execution_count": 17,
     "metadata": {},
     "output_type": "execute_result"
    }
   ],
   "source": [
    "data"
   ]
  },
  {
   "cell_type": "code",
   "execution_count": 20,
   "metadata": {},
   "outputs": [
    {
     "data": {
      "text/plain": [
       "PIL.PngImagePlugin.PngImageFile"
      ]
     },
     "execution_count": 20,
     "metadata": {},
     "output_type": "execute_result"
    }
   ],
   "source": [
    "type(im)"
   ]
  },
  {
   "cell_type": "code",
   "execution_count": 21,
   "metadata": {
    "collapsed": true
   },
   "outputs": [],
   "source": [
    "U, s, V = np.linalg.svd(data, full_matrices=False)"
   ]
  },
  {
   "cell_type": "code",
   "execution_count": 22,
   "metadata": {},
   "outputs": [
    {
     "data": {
      "text/plain": [
       "array([[ -2.81071596e-05,  -9.75061020e-05,  -4.61939349e-04,\n",
       "         -8.64710538e-01,   3.42342874e-01],\n",
       "       [ -3.11298560e-05,  -9.14573648e-05,  -4.61067810e-04,\n",
       "         -3.65061573e-01,  -9.24205503e-01],\n",
       "       [ -3.41525524e-05,  -8.54086275e-05,  -4.60196272e-04,\n",
       "          1.18098260e-05,   1.61529652e-05],\n",
       "       ..., \n",
       "       [ -3.01121037e-03,   2.25668415e-04,   3.29495183e-03,\n",
       "          1.13165265e-04,  -1.49499456e-04],\n",
       "       [ -3.01950316e-03,   2.13434758e-04,   3.20920974e-03,\n",
       "         -1.20772234e-05,   7.41201494e-05],\n",
       "       [ -2.99968879e-03,   2.98707203e-04,   3.58540700e-03,\n",
       "          2.05270935e-04,  -6.29410006e-05]])"
      ]
     },
     "execution_count": 22,
     "metadata": {},
     "output_type": "execute_result"
    }
   ],
   "source": [
    "U"
   ]
  },
  {
   "cell_type": "code",
   "execution_count": 23,
   "metadata": {},
   "outputs": [
    {
     "data": {
      "text/plain": [
       "array([  2.72662737e+05,   9.33021920e+04,   5.41846261e+04,\n",
       "         2.01118539e-11,   1.09659524e-12])"
      ]
     },
     "execution_count": 23,
     "metadata": {},
     "output_type": "execute_result"
    }
   ],
   "source": [
    "s"
   ]
  },
  {
   "cell_type": "markdown",
   "metadata": {},
   "source": [
    "Considerese el sistema de ecuaciones $Ax=b$, donde $A$ es una matrix de $m\\times n$ y $b\\in\\mathbb{R}^n$. Sea $\\tilde{A}$ pseudoinversa de $A$. Si $z=\\tilde{A}b$, entonces $z$ tiene las siguientes propiedades:"
   ]
  },
  {
   "cell_type": "markdown",
   "metadata": {},
   "source": [
    "1- Si $A$ es invertible, entonces $z$ es la unica solucion del sistema que tiene norma minima. Es decir, $z$ es una solucion al sistema y si $y$ es cualquier (otra) solucion del sistema, entonces $||z||\\leq ||y||$."
   ]
  },
  {
   "cell_type": "markdown",
   "metadata": {},
   "source": [
    "2- Si $A$ no es invertible, entonces $z$ la unica mejor aproximacion a la solucion que tiene minima norma. Es decir, para cualquier $y\\in\\mathbb{R}^n$ se cumple que $||Az-b||\\leq ||Ay-b||$. Ademas, si $Az=Ay$ entonces $||z||\\leq||y||$."
   ]
  }
 ],
 "metadata": {
  "kernelspec": {
   "display_name": "Python 3",
   "language": "python",
   "name": "python3"
  },
  "language_info": {
   "codemirror_mode": {
    "name": "ipython",
    "version": 3
   },
   "file_extension": ".py",
   "mimetype": "text/x-python",
   "name": "python",
   "nbconvert_exporter": "python",
   "pygments_lexer": "ipython3",
   "version": "3.6.1"
  }
 },
 "nbformat": 4,
 "nbformat_minor": 2
}
